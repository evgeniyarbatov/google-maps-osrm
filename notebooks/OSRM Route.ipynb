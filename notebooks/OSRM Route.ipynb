{
 "cells": [
  {
   "cell_type": "code",
   "execution_count": 3,
   "id": "43170197",
   "metadata": {},
   "outputs": [],
   "source": [
    "import requests\n",
    "import polyline\n",
    "\n",
    "import matplotlib.pyplot as plt\n",
    "import contextily as ctx\n",
    "\n",
    "import xml.dom.minidom\n",
    "from xml.etree.ElementTree import Element, SubElement, tostring"
   ]
  },
  {
   "cell_type": "code",
   "execution_count": 4,
   "id": "d13ba1ce",
   "metadata": {},
   "outputs": [],
   "source": [
    "IP_ADDRESS = \"13.212.110.77\""
   ]
  },
  {
   "cell_type": "code",
   "execution_count": 5,
   "id": "2b28c37a",
   "metadata": {},
   "outputs": [],
   "source": [
    "def osrm_format(coords):\n",
    "    lat, lon = coords\n",
    "    return f\"{lon},{lat}\"\n",
    "\n",
    "def get_route(points):\n",
    "    points = ';'.join(map(osrm_format, points))\n",
    "    params = {\n",
    "        'geometries': 'polyline6',\n",
    "        'overview': 'full',\n",
    "    }\n",
    "    \n",
    "    response = requests.get(f\"http://{IP_ADDRESS}:5000/route/v1/foot/{points}\", params=params)\n",
    "    routes = response.json()\n",
    "    \n",
    "    if routes['code'] != 'Ok':\n",
    "        print(routes)\n",
    "        return None\n",
    "    \n",
    "    geometry = routes['routes'][0]['geometry']\n",
    "    return polyline.decode(geometry, 6)\n",
    "\n",
    "def plot_route(route):\n",
    "    fig, ax = plt.subplots(1, 1, figsize=(12, 30))\n",
    "    \n",
    "    latitudes = [point[0] for point in route]\n",
    "    longitudes = [point[1] for point in route]\n",
    "    \n",
    "    ax.plot(longitudes, latitudes, color='red', label='Route')\n",
    "    ctx.add_basemap(ax, crs='EPSG:4326', source=ctx.providers.OpenStreetMap.Mapnik)\n",
    "    \n",
    "    ax.legend()\n",
    "    ax.set_yticks([])\n",
    "    ax.set_xticks([])\n",
    "    ax.tick_params(axis='both', which='both', bottom=False, top=False, left=False, right=False)\n",
    "    \n",
    "    plt.show()\n",
    "\n",
    "def create_gpx(route, output_file):\n",
    "    gpx = Element('gpx', {\n",
    "      'creator': 'Evgeny Arbatov',\n",
    "      'xmlns:xsi': 'http://www.w3.org/2001/XMLSchema-instance',\n",
    "      'xsi:schemaLocation': 'http://www.topografix.com/GPX/1/1 http://www.topografix.com/GPX/1/1/gpx.xsd',\n",
    "      'version': '1.1',\n",
    "      'xmlns': 'http://www.topografix.com/GPX/1/1'\n",
    "    })\n",
    "    \n",
    "    trk = SubElement(gpx, \"trk\")\n",
    "    trkseg = SubElement(trk, \"trkseg\")\n",
    "\n",
    "    for lat, lng in route:\n",
    "        SubElement(trkseg, \"trkpt\", attrib={\"lat\": str(lat), \"lon\": str(lng)})\n",
    "\n",
    "    with open(output_file, \"w\") as f:\n",
    "        gpx = xml.dom.minidom.parseString(\n",
    "            tostring(gpx, encoding=\"unicode\")\n",
    "        ).toprettyxml()\n",
    "        \n",
    "        f.write(gpx)"
   ]
  },
  {
   "cell_type": "code",
   "execution_count": 6,
   "id": "e93a07c1",
   "metadata": {},
   "outputs": [
    {
     "ename": "NameError",
     "evalue": "name 'start' is not defined",
     "output_type": "error",
     "traceback": [
      "\u001b[0;31m---------------------------------------------------------------------------\u001b[0m",
      "\u001b[0;31mNameError\u001b[0m                                 Traceback (most recent call last)",
      "Input \u001b[0;32mIn [6]\u001b[0m, in \u001b[0;36m<cell line: 0>\u001b[0;34m()\u001b[0m\n\u001b[0;32m----> 1\u001b[0m points \u001b[38;5;241m=\u001b[39m [\u001b[43mstart\u001b[49m] \u001b[38;5;241m+\u001b[39m [stop]\n\u001b[1;32m      3\u001b[0m osrm_route \u001b[38;5;241m=\u001b[39m get_route(points) \n\u001b[1;32m      4\u001b[0m plot_route(osrm_route)\n",
      "\u001b[0;31mNameError\u001b[0m: name 'start' is not defined"
     ]
    }
   ],
   "source": [
    "st\n",
    "stop = (21.043666864560734, 105.83550324106861)\n",
    "\n",
    "points = [start] + [stop]\n",
    "\n",
    "osrm_route = get_route(points) \n",
    "plot_route(osrm_route)\n",
    "\n",
    "create_gpx(osrm_route, '../gpx/WestLake/osrm/route.gpx')"
   ]
  },
  {
   "cell_type": "code",
   "execution_count": null,
   "id": "efb0e917",
   "metadata": {},
   "outputs": [],
   "source": []
  }
 ],
 "metadata": {
  "kernelspec": {
   "display_name": "Python 3 (ipykernel)",
   "language": "python",
   "name": "python3"
  },
  "language_info": {
   "codemirror_mode": {
    "name": "ipython",
    "version": 3
   },
   "file_extension": ".py",
   "mimetype": "text/x-python",
   "name": "python",
   "nbconvert_exporter": "python",
   "pygments_lexer": "ipython3",
   "version": "3.11.9"
  }
 },
 "nbformat": 4,
 "nbformat_minor": 5
}
